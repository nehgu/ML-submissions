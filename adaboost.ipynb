{
 "cells": [
  {
   "cell_type": "code",
   "execution_count": 20,
   "metadata": {
    "collapsed": false
   },
   "outputs": [
    {
     "name": "stdout",
     "output_type": "stream",
     "text": [
      "(126837, 52)\n",
      "(31709, 51)\n"
     ]
    }
   ],
   "source": [
    "import pandas as pd\n",
    "import pandas_ml as pdml\n",
    "import numpy as np\n",
    "from sklearn import cross_validation, metrics   #Additional scklearn functions\n",
    "\n",
    "from sklearn.feature_extraction import DictVectorizer as DV\n",
    "from sklearn.metrics import roc_auc_score as AUC\n",
    "\n",
    "import matplotlib.pylab as plt\n",
    "%matplotlib inline\n",
    "from matplotlib.pylab import rcParams\n",
    "rcParams['figure.figsize'] = 12, 4\n",
    "\n",
    "pd.set_option('display.max_rows', 8)\n",
    "pd.set_option('display.max_rows', 6)\n",
    "\n",
    "train_df = pd.read_csv('data3.csv',header=0, index_col=0)\n",
    "test_df = pd.read_csv('quiz.csv',header=0, index_col=0)\n",
    "print(train_df.shape)\n",
    "# convert to pdml.ModelFrame\n",
    "#train_df = pdml.ModelFrame(train_df,target='label')\n",
    "train_df=train_df.dropna()\n",
    "#test_df = pdml.ModelFrame(test_df)\n",
    "test_df=test_df.dropna()\n",
    "\n",
    "print(test_df.shape)"
   ]
  },
  {
   "cell_type": "code",
   "execution_count": 21,
   "metadata": {
    "collapsed": false
   },
   "outputs": [],
   "source": [
    "from sklearn.base import TransformerMixin\n",
    "class DataFrameImputer(TransformerMixin):\n",
    "    def fit(self, X, y=None):\n",
    "        self.fill = pd.Series([X[c].value_counts().index[0]\n",
    "            if X[c].dtype == np.dtype('O') else X[c].median() for c in X],\n",
    "            index=X.columns)\n",
    "        return self\n",
    "    def transform(self, X, y=None):\n",
    "        return X.fillna(self.fill)\n",
    "\n",
    "feature_columns_to_use = ([x for x in train_df.columns])\n",
    "feature_columns_to_use.pop(-1)\n",
    "\n",
    "numeric_cols = ['59','60']\n",
    "nonnumeric_columns = feature_columns_to_use[0:46]+feature_columns_to_use[48:]\n",
    "\n",
    "# Join the features from train and test together before imputing missing values,\n",
    "# in case their distribution is slightly different\n",
    "big_X = train_df[feature_columns_to_use].append(test_df[feature_columns_to_use])\n",
    "big_X_imputed = DataFrameImputer().fit_transform(big_X)\n",
    "#print(big_X_imputed)"
   ]
  },
  {
   "cell_type": "code",
   "execution_count": 22,
   "metadata": {
    "collapsed": true
   },
   "outputs": [],
   "source": [
    "# To handle categorical features, we need to change\n",
    "# them to columns of integer values.\n",
    "from sklearn.preprocessing import LabelEncoder\n",
    "le = LabelEncoder()\n",
    "for feature in nonnumeric_columns:\n",
    "    big_X_imputed[feature] = le.fit_transform(big_X_imputed[feature])\n",
    "\n",
    "# Prepare the inputs for the model\n",
    "train_X = big_X_imputed[0:train_df.shape[0]].as_matrix()\n",
    "test_X = big_X_imputed[train_df.shape[0]::].as_matrix()\n",
    "train_y = train_df['label']"
   ]
  },
  {
   "cell_type": "code",
   "execution_count": 27,
   "metadata": {
    "collapsed": false
   },
   "outputs": [],
   "source": [
    "from sklearn.ensemble import AdaBoostClassifier\n",
    "from sklearn.tree import DecisionTreeClassifier\n",
    "\n",
    "# Create and fit an AdaBoosted decision tree\n",
    "bdt = AdaBoostClassifier(DecisionTreeClassifier(max_depth=40, criterion='gini'),\n",
    "                         algorithm=\"SAMME.R\", \n",
    "                         n_estimators=2000)\n",
    "\n",
    "bdt.fit(train_X, train_y)\n",
    "predictions = bdt.predict(test_X)"
   ]
  },
  {
   "cell_type": "code",
   "execution_count": 28,
   "metadata": {
    "collapsed": false
   },
   "outputs": [],
   "source": [
    "indx=[x for x in range(1,31710)]\n",
    "submission = pd.DataFrame({'Id': indx,\n",
    "                           'Prediction': predictions })\n",
    "submission.to_csv(\"submission.csv\", index=False, sep=\",\")"
   ]
  },
  {
   "cell_type": "code",
   "execution_count": null,
   "metadata": {
    "collapsed": true
   },
   "outputs": [],
   "source": []
  }
 ],
 "metadata": {
  "kernelspec": {
   "display_name": "Python 3",
   "language": "python",
   "name": "python3"
  },
  "language_info": {
   "codemirror_mode": {
    "name": "ipython",
    "version": 3
   },
   "file_extension": ".py",
   "mimetype": "text/x-python",
   "name": "python",
   "nbconvert_exporter": "python",
   "pygments_lexer": "ipython3",
   "version": "3.5.1"
  }
 },
 "nbformat": 4,
 "nbformat_minor": 0
}
